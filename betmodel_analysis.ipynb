{
 "cells": [
  {
   "cell_type": "code",
   "execution_count": 7,
   "id": "f27e5db1-d501-4b2e-babc-556fb82ccaf9",
   "metadata": {},
   "outputs": [],
   "source": [
    "# A fast-growing method of sports betting in the U.S. is \n",
    "#   \"player props\", where the bettor wagers on certain players \n",
    "#   going over or under a line on a certain statistic.\n",
    "\n",
    "# This analysis intends to develop a model for betting player props.\n",
    "\n",
    "# The below code will not run unless you have installed the nba_api package:\n",
    "#    pip install nba_api"
   ]
  },
  {
   "cell_type": "code",
   "execution_count": null,
   "id": "a3933c14-1f0e-4072-9da7-b898fa962c2e",
   "metadata": {},
   "outputs": [],
   "source": [
    "import pandas as pd\n",
    "import numpy as np\n",
    "import json\n",
    "import matplotlib.pyplot as plt\n",
    "import seaborn as sns\n",
    "from nba_api.stats.static import players\n",
    "from nba_api.stats.endpoints import playergamelogs\n",
    "\n",
    "pd.options.display.max_columns = None\n",
    "\n",
    "# get_players returns a list of dictionaries, each representing a player.\n",
    "nba_players = players.get_players()\n",
    "\n",
    "test_player_name = \"LeBron James\"\n",
    "\n",
    "chosen_player = [\n",
    "    player for player in nba_players if player['full_name'] == test_player_name\n",
    "][0]\n",
    "\n",
    "chosen_player_id = chosen_player['id']\n",
    "\n",
    "print('Test player:', chosen_player['full_name'], '-', chosen_player_id)"
   ]
  },
  {
   "cell_type": "code",
   "execution_count": null,
   "id": "e2145c8f-6904-47a9-af97-bf8dd4d7e631",
   "metadata": {},
   "outputs": [],
   "source": [
    "# Only use the last two seasons.\n",
    "# The reason for this is that, in my experience from the sports betting industry,\n",
    "#   props are most often wrong in two cases:\n",
    "#   1) young players whose numbers can make large leaps year-over-year as they improve; \n",
    "#   2) aging players whose numbers tend to drop rapidly toward the end of their careers.\n",
    "# Using just the current season and the previous one minimizes the chances of\n",
    "#   incorrectly estimating a player due to these effects.\n",
    "\n",
    "seasons = ['2022-23', '2023-24']\n",
    "\n",
    "# Get the test player's data.\n",
    "\n",
    "test_player_log = playergamelogs.PlayerGameLogs(player_id_nullable = chosen_player_id,\n",
    "                                                season_nullable = seasons).get_normalized_json()\n",
    "\n",
    "testGames = pd.DataFrame(json.loads(test_player_log)['PlayerGameLogs'])\n",
    "\n",
    "# We also need a data set of all players, to know how the counting stats are distributed.\n",
    "\n",
    "raw_recent_players = playergamelogs.PlayerGameLogs(season_nullable = seasons).get_normalized_json()\n",
    "\n",
    "all_recent_player_games = pd.DataFrame(json.loads(raw_recent_players)['PlayerGameLogs'])\n",
    "\n",
    "all_recent_player_games.head(10)"
   ]
  },
  {
   "cell_type": "code",
   "execution_count": null,
   "id": "d06284b5-6fba-4652-8668-3ae1fbf0804d",
   "metadata": {},
   "outputs": [],
   "source": [
    "# Only pick player-games with more than 24 minutes (i.e., players who play more than half the game).\n",
    "# This should eliminate early injuries and \"garbage time\" players who only play at the end of blowouts.\n",
    "\n",
    "player_games_df = all_recent_player_games\\\n",
    "    .query(\"MIN > 24.0\")\n",
    "\n",
    "player_games_df['PTS'].describe()"
   ]
  },
  {
   "cell_type": "code",
   "execution_count": null,
   "id": "3914dc7b-e405-4e15-a348-405e757bfab0",
   "metadata": {},
   "outputs": [],
   "source": [
    "# Some research suggests that point scoring is Gaussian distributed, \n",
    "#   but as this graph suggests, it can be skewed.\n",
    "\n",
    "pgpts_mean = player_games_df['PTS'].mean()\n",
    "\n",
    "sns.histplot(player_games_df['PTS'], stat=\"probability\");\n",
    "plt.show();"
   ]
  },
  {
   "cell_type": "code",
   "execution_count": null,
   "id": "1db35d93-e530-44f9-85a2-6d4227df3c58",
   "metadata": {},
   "outputs": [],
   "source": [
    "# Simulate the probability that the test player goes over 34.5 points\n",
    "\n",
    "from scipy.stats import norm\n",
    "\n",
    "sim_size = 1000000\n",
    "\n",
    "pts_sim = norm.rvs(loc=testGames['PTS'].mean(), scale=testGames['PTS'].std(), size=sim_size)\n",
    "p_pts_over = len(pts_sim[pts_sim > 34.5]) / len(pts_sim)\n",
    "p_pts_over"
   ]
  },
  {
   "cell_type": "code",
   "execution_count": null,
   "id": "12950b89-5e73-4237-841a-a224747a824f",
   "metadata": {},
   "outputs": [],
   "source": [
    "# Now, rebounds.\n",
    "# My experience from similar metrics (i.e., both goals and corner kicks in soccer)\n",
    "#  suggests that rebounds should be distributed as a Poisson variable.\n",
    "\n",
    "from scipy.stats import poisson\n",
    "\n",
    "pgreb_mean = player_games_df['REB'].mean()\n",
    "\n",
    "pgreb_pos =\\\n",
    "    pd.DataFrame(\n",
    "        {\"x\": range(0, 30),\n",
    "         \"expected\": [poisson.pmf(x, pgreb_mean) for x in range(0, 30)]\n",
    "        }\n",
    ")\n",
    "\n",
    "sns.histplot(player_games_df['REB'], stat=\"probability\");\n",
    "plt.plot(pgreb_pos.x, pgreb_pos.expected);\n",
    "plt.show();"
   ]
  },
  {
   "cell_type": "code",
   "execution_count": null,
   "id": "0ad89800-2d6f-4816-94db-d5128378b9e3",
   "metadata": {},
   "outputs": [],
   "source": [
    "# Assists, made 3-point shots, steals, and blocks should be similar\n",
    "# Assists:\n",
    "\n",
    "pgast_mean = player_games_df['AST'].mean()\n",
    "\n",
    "pgast_pos =\\\n",
    "    pd.DataFrame(\n",
    "        {\"x\": range(0, 30),\n",
    "         \"expected\": [poisson.pmf(x, pgast_mean) for x in range(0, 30)]\n",
    "        }\n",
    ")\n",
    "\n",
    "sns.histplot(player_games_df['AST'], stat=\"probability\");\n",
    "plt.plot(pgast_pos.x, pgast_pos.expected);\n",
    "plt.show();"
   ]
  },
  {
   "cell_type": "code",
   "execution_count": null,
   "id": "ad95c136-4d5b-42b8-9359-7e5d19815b41",
   "metadata": {},
   "outputs": [],
   "source": [
    "# Made 3-pointers:\n",
    "\n",
    "pg3pt_mean = player_games_df['FG3M'].mean()\n",
    "\n",
    "pg3pt_pos =\\\n",
    "    pd.DataFrame(\n",
    "        {\"x\": range(0, 30),\n",
    "         \"expected\": [poisson.pmf(x, pg3pt_mean) for x in range(0, 30)]\n",
    "        }\n",
    ")\n",
    "\n",
    "sns.histplot(player_games_df['FG3M'], stat=\"probability\");\n",
    "plt.plot(pg3pt_pos.x, pg3pt_pos.expected);\n",
    "plt.show();"
   ]
  },
  {
   "cell_type": "code",
   "execution_count": null,
   "id": "f702bdaf-0974-42be-afcf-fa65c0aad479",
   "metadata": {},
   "outputs": [],
   "source": [
    "# Steals:\n",
    "\n",
    "pgstl_mean = player_games_df['STL'].mean()\n",
    "\n",
    "pgstl_pos =\\\n",
    "    pd.DataFrame(\n",
    "        {\"x\": range(0, 30),\n",
    "         \"expected\": [poisson.pmf(x, pgstl_mean) for x in range(0, 30)]\n",
    "        }\n",
    ")\n",
    "\n",
    "sns.histplot(player_games_df['STL'], stat=\"probability\");\n",
    "plt.plot(pgstl_pos.x, pgstl_pos.expected);\n",
    "plt.show();"
   ]
  },
  {
   "cell_type": "code",
   "execution_count": null,
   "id": "d8c0d987-4917-4504-9c56-0c0f29a843e6",
   "metadata": {},
   "outputs": [],
   "source": [
    "# Blocked shots:\n",
    "\n",
    "pgblk_mean = player_games_df['BLK'].mean()\n",
    "\n",
    "pgblk_pos =\\\n",
    "    pd.DataFrame(\n",
    "        {\"x\": range(0, 30),\n",
    "         \"expected\": [poisson.pmf(x, pgblk_mean) for x in range(0, 30)]\n",
    "        }\n",
    ")\n",
    "\n",
    "sns.histplot(player_games_df['BLK'], stat=\"probability\");\n",
    "plt.plot(pgblk_pos.x, pgblk_pos.expected);\n",
    "plt.show();"
   ]
  },
  {
   "cell_type": "code",
   "execution_count": null,
   "id": "119aad53-b89c-4e38-9db7-5d34923def32",
   "metadata": {},
   "outputs": [],
   "source": [
    "# Steals, Threes made, and Blocks are almost perfectly Poisson. \n",
    "# Rebounds is close to Poisson, but weak in spots.\n",
    "\n",
    "# So let's simulate the probability of the test player scoring above 34.5 points  \n",
    "#   along with more than 9.5 rebounds and 9.5 assists:\n",
    "\n",
    "reb_sim = poisson.rvs(testGames['REB'].mean(), size=sim_size)\n",
    "p_reb_over = len(reb_sim[reb_sim > 9.5]) / len(reb_sim)\n",
    "\n",
    "ast_sim = poisson.rvs(testGames['AST'].mean(), size=sim_size)\n",
    "p_ast_over = len(ast_sim[ast_sim > 9.5]) / len(ast_sim)\n",
    "\n",
    "print((p_pts_over * p_reb_over * p_ast_over) * 100, \"%\")"
   ]
  },
  {
   "cell_type": "code",
   "execution_count": null,
   "id": "b5affa94-ebb4-4cef-922a-8e7aab6d7263",
   "metadata": {},
   "outputs": [],
   "source": [
    "# Just barely above 1%. Now check this with the ACTUAL number of \n",
    "#   similar games that the test player has had in the last two years:\n",
    "\n",
    "conditions = [\n",
    "    (playerGames['PTS'] > 34.5) & (playerGames['REB'] > 9.5) & (playerGames['AST'] > 9.5),\n",
    "    (playerGames['PTS'] < 34.5) | (playerGames['REB'] < 9.5) | (playerGames['AST'] < 9.5)\n",
    "]\n",
    "choices = [1, 0]\n",
    "\n",
    "playerGames['PROP_FLAG'] = np.select(conditions, choices, default=0)\n",
    "\n",
    "p_prop = sum(playerGames['PROP_FLAG']) / len(playerGames['PROP_FLAG'])\n",
    "p_prop"
   ]
  },
  {
   "cell_type": "code",
   "execution_count": null,
   "id": "dd43bb27-3635-425e-84dd-7bafc41116aa",
   "metadata": {},
   "outputs": [],
   "source": [
    "# Literally hasn't happened in the current season to date, \n",
    "#   or the entirety of the previous one. \n",
    "# Of course the test player is LeBron James, who has done this many times \n",
    "#   in his career, so it's not impossible. \n",
    "# That fact is reflected in the very small probability returned \n",
    "#   by using the simulation method.\n",
    "\n",
    "# Another common prop is sum(Points, Rebounds, Assists) > N. \n",
    "#   In our test player example, the \"over\" would be at 35+10+10 = 55\n",
    "\n",
    "pra_sim = pts_sim + reb_sim + ast_sim\n",
    "\n",
    "p_pra_over = len(pra_sim[pra_sim > 54.5]) / len(pra_sim)\n",
    "p_pra_over"
   ]
  },
  {
   "cell_type": "code",
   "execution_count": null,
   "id": "e4abbef6-f867-41b6-8418-ccf5fd15a35e",
   "metadata": {},
   "outputs": [],
   "source": [
    "# And how many times has LeBron James actually exceeded 54.5 in the last two years?\n",
    "\n",
    "playerGames['PROP_CHECK_2'] = playerGames['PTS'] + playerGames['REB'] + playerGames['AST']\n",
    "playerGames['PROP_FLAG_2'] = playerGames['PROP_CHECK_2'] > 54.5\n",
    "\n",
    "p_prop2 = sum(playerGames['PROP_FLAG']) / len(playerGames['PROP_FLAG'])\n",
    "p_prop2"
   ]
  }
 ],
 "metadata": {
  "kernelspec": {
   "display_name": "anaconda-panel-2023.05-py310",
   "language": "python",
   "name": "conda-env-anaconda-panel-2023.05-py310-py"
  },
  "language_info": {
   "codemirror_mode": {
    "name": "ipython",
    "version": 3
   },
   "file_extension": ".py",
   "mimetype": "text/x-python",
   "name": "python",
   "nbconvert_exporter": "python",
   "pygments_lexer": "ipython3",
   "version": "3.11.5"
  }
 },
 "nbformat": 4,
 "nbformat_minor": 5
}
